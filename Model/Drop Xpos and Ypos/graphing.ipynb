{
 "cells": [
  {
   "cell_type": "code",
   "execution_count": 1,
   "metadata": {},
   "outputs": [
    {
     "name": "stdout",
     "output_type": "stream",
     "text": [
      "Python ver: 3.7.3\n",
      "Scikit-learn ver: 1.0.2\n",
      "Pandas ver: 1.3.5\n",
      "Numpy ver: 1.19.4\n"
     ]
    }
   ],
   "source": [
    "import numpy as np\n",
    "import pandas as pd\n",
    "import matplotlib.pyplot as plt\n",
    "import sklearn\n",
    "\n",
    "from sklearn.model_selection import train_test_split, cross_val_score, StratifiedKFold\n",
    "from sklearn.tree import DecisionTreeClassifier\n",
    "from sklearn.neighbors import KNeighborsClassifier\n",
    "from sklearn.naive_bayes import GaussianNB\n",
    "from sklearn.svm import SVC\n",
    "\n",
    "from sklearn.metrics import classification_report, ConfusionMatrixDisplay\n",
    "\n",
    "import platform\n",
    "import os\n",
    "import time\n",
    "\n",
    "print('Python ver:', platform.python_version())\n",
    "print('Scikit-learn ver:', sklearn.__version__)\n",
    "print('Pandas ver:', pd.__version__)\n",
    "print('Numpy ver:', np.__version__)"
   ]
  },
  {
   "cell_type": "code",
   "execution_count": 2,
   "metadata": {},
   "outputs": [],
   "source": [
    "# Read csv and check the data\n",
    "cwd = os.path.dirname(os.path.abspath('__file__'))\n",
    "dataset_dir = os.path.join(cwd, '..', '..', 'Transformed dataset')\n",
    "mean_path = os.path.join(dataset_dir, 'transformed_mean.csv')\n",
    "var_path = os.path.join(dataset_dir, 'transformed_var.csv')\n",
    "\n",
    "mean_csv = pd.read_csv(mean_path)\n",
    "var_csv = pd.read_csv(var_path)"
   ]
  },
  {
   "cell_type": "code",
   "execution_count": 3,
   "metadata": {},
   "outputs": [
    {
     "data": {
      "text/plain": [
       "Index(['index', 'xpos_mean', 'ypos_mean', 'zpos_mean', 'xvel_mean',\n",
       "       'yvel_mean', 'zvel_mean', 'xacc_mean', 'yacc_mean', 'zacc_mean'],\n",
       "      dtype='object')"
      ]
     },
     "execution_count": 3,
     "metadata": {},
     "output_type": "execute_result"
    }
   ],
   "source": [
    "mean_csv = mean_csv.drop(columns=[\"label\"])\n",
    "mean_csv = mean_csv.add_suffix(\"_mean\")\n",
    "mean_csv.columns = mean_csv.columns.str.replace(\"Unnamed: 0_mean\", \"index\")\n",
    "mean_csv.columns"
   ]
  },
  {
   "cell_type": "code",
   "execution_count": 5,
   "metadata": {},
   "outputs": [
    {
     "data": {
      "text/html": [
       "<div>\n",
       "<style scoped>\n",
       "    .dataframe tbody tr th:only-of-type {\n",
       "        vertical-align: middle;\n",
       "    }\n",
       "\n",
       "    .dataframe tbody tr th {\n",
       "        vertical-align: top;\n",
       "    }\n",
       "\n",
       "    .dataframe thead th {\n",
       "        text-align: right;\n",
       "    }\n",
       "</style>\n",
       "<table border=\"1\" class=\"dataframe\">\n",
       "  <thead>\n",
       "    <tr style=\"text-align: right;\">\n",
       "      <th></th>\n",
       "      <th>index</th>\n",
       "      <th>zpos_mean</th>\n",
       "      <th>xvel_mean</th>\n",
       "      <th>yvel_mean</th>\n",
       "      <th>zvel_mean</th>\n",
       "      <th>xacc_mean</th>\n",
       "      <th>yacc_mean</th>\n",
       "      <th>zacc_mean</th>\n",
       "    </tr>\n",
       "  </thead>\n",
       "  <tbody>\n",
       "    <tr>\n",
       "      <th>0</th>\n",
       "      <td>0</td>\n",
       "      <td>1.126524</td>\n",
       "      <td>-0.034340</td>\n",
       "      <td>-0.008131</td>\n",
       "      <td>-0.254972</td>\n",
       "      <td>-0.062188</td>\n",
       "      <td>-0.022162</td>\n",
       "      <td>-0.127762</td>\n",
       "    </tr>\n",
       "    <tr>\n",
       "      <th>1</th>\n",
       "      <td>1</td>\n",
       "      <td>1.118971</td>\n",
       "      <td>-0.022590</td>\n",
       "      <td>-0.038763</td>\n",
       "      <td>-0.215774</td>\n",
       "      <td>-0.130912</td>\n",
       "      <td>-0.094322</td>\n",
       "      <td>-0.156462</td>\n",
       "    </tr>\n",
       "    <tr>\n",
       "      <th>2</th>\n",
       "      <td>2</td>\n",
       "      <td>1.058666</td>\n",
       "      <td>0.008053</td>\n",
       "      <td>-0.014171</td>\n",
       "      <td>-0.241596</td>\n",
       "      <td>-0.187329</td>\n",
       "      <td>-0.094175</td>\n",
       "      <td>-0.304099</td>\n",
       "    </tr>\n",
       "    <tr>\n",
       "      <th>3</th>\n",
       "      <td>3</td>\n",
       "      <td>1.098358</td>\n",
       "      <td>-0.016384</td>\n",
       "      <td>-0.023224</td>\n",
       "      <td>-0.176972</td>\n",
       "      <td>-0.147660</td>\n",
       "      <td>-0.086541</td>\n",
       "      <td>-0.152001</td>\n",
       "    </tr>\n",
       "    <tr>\n",
       "      <th>4</th>\n",
       "      <td>4</td>\n",
       "      <td>1.036649</td>\n",
       "      <td>-0.033658</td>\n",
       "      <td>0.015930</td>\n",
       "      <td>-0.182137</td>\n",
       "      <td>-0.022553</td>\n",
       "      <td>0.011463</td>\n",
       "      <td>0.136443</td>\n",
       "    </tr>\n",
       "  </tbody>\n",
       "</table>\n",
       "</div>"
      ],
      "text/plain": [
       "   index  zpos_mean  xvel_mean  yvel_mean  zvel_mean  xacc_mean  yacc_mean  \\\n",
       "0      0   1.126524  -0.034340  -0.008131  -0.254972  -0.062188  -0.022162   \n",
       "1      1   1.118971  -0.022590  -0.038763  -0.215774  -0.130912  -0.094322   \n",
       "2      2   1.058666   0.008053  -0.014171  -0.241596  -0.187329  -0.094175   \n",
       "3      3   1.098358  -0.016384  -0.023224  -0.176972  -0.147660  -0.086541   \n",
       "4      4   1.036649  -0.033658   0.015930  -0.182137  -0.022553   0.011463   \n",
       "\n",
       "   zacc_mean  \n",
       "0  -0.127762  \n",
       "1  -0.156462  \n",
       "2  -0.304099  \n",
       "3  -0.152001  \n",
       "4   0.136443  "
      ]
     },
     "execution_count": 5,
     "metadata": {},
     "output_type": "execute_result"
    }
   ],
   "source": [
    "mean_csv = mean_csv.drop(['xpos_mean','ypos_mean'], axis=1)\n",
    "mean_csv.head()"
   ]
  },
  {
   "cell_type": "code",
   "execution_count": 4,
   "metadata": {},
   "outputs": [
    {
     "data": {
      "text/plain": [
       "Index(['index', 'xpos_var', 'ypos_var', 'zpos_var', 'xvel_var', 'yvel_var',\n",
       "       'zvel_var', 'xacc_var', 'yacc_var', 'zacc_var', 'label'],\n",
       "      dtype='object')"
      ]
     },
     "execution_count": 4,
     "metadata": {},
     "output_type": "execute_result"
    }
   ],
   "source": [
    "var_csv = var_csv.add_suffix(\"_var\")\n",
    "var_csv.columns = var_csv.columns.str.replace(\"Unnamed: 0_var\", 'index')\n",
    "var_csv.columns = var_csv.columns.str.replace(\"label_var\", 'label')\n",
    "var_csv.columns"
   ]
  },
  {
   "cell_type": "code",
   "execution_count": 6,
   "metadata": {},
   "outputs": [
    {
     "data": {
      "text/html": [
       "<div>\n",
       "<style scoped>\n",
       "    .dataframe tbody tr th:only-of-type {\n",
       "        vertical-align: middle;\n",
       "    }\n",
       "\n",
       "    .dataframe tbody tr th {\n",
       "        vertical-align: top;\n",
       "    }\n",
       "\n",
       "    .dataframe thead th {\n",
       "        text-align: right;\n",
       "    }\n",
       "</style>\n",
       "<table border=\"1\" class=\"dataframe\">\n",
       "  <thead>\n",
       "    <tr style=\"text-align: right;\">\n",
       "      <th></th>\n",
       "      <th>index</th>\n",
       "      <th>zpos_var</th>\n",
       "      <th>xvel_var</th>\n",
       "      <th>yvel_var</th>\n",
       "      <th>zvel_var</th>\n",
       "      <th>xacc_var</th>\n",
       "      <th>yacc_var</th>\n",
       "      <th>zacc_var</th>\n",
       "      <th>label</th>\n",
       "    </tr>\n",
       "  </thead>\n",
       "  <tbody>\n",
       "    <tr>\n",
       "      <th>0</th>\n",
       "      <td>0</td>\n",
       "      <td>0.134980</td>\n",
       "      <td>0.010190</td>\n",
       "      <td>0.007413</td>\n",
       "      <td>0.122343</td>\n",
       "      <td>0.010610</td>\n",
       "      <td>0.014236</td>\n",
       "      <td>0.065308</td>\n",
       "      <td>0</td>\n",
       "    </tr>\n",
       "    <tr>\n",
       "      <th>1</th>\n",
       "      <td>1</td>\n",
       "      <td>0.081638</td>\n",
       "      <td>0.044725</td>\n",
       "      <td>0.012691</td>\n",
       "      <td>0.232494</td>\n",
       "      <td>0.042590</td>\n",
       "      <td>0.039106</td>\n",
       "      <td>0.189655</td>\n",
       "      <td>0</td>\n",
       "    </tr>\n",
       "    <tr>\n",
       "      <th>2</th>\n",
       "      <td>2</td>\n",
       "      <td>0.138591</td>\n",
       "      <td>0.110522</td>\n",
       "      <td>0.009268</td>\n",
       "      <td>0.282040</td>\n",
       "      <td>0.071227</td>\n",
       "      <td>0.039771</td>\n",
       "      <td>0.189879</td>\n",
       "      <td>0</td>\n",
       "    </tr>\n",
       "    <tr>\n",
       "      <th>3</th>\n",
       "      <td>3</td>\n",
       "      <td>0.095979</td>\n",
       "      <td>0.042904</td>\n",
       "      <td>0.005863</td>\n",
       "      <td>0.110072</td>\n",
       "      <td>0.039747</td>\n",
       "      <td>0.021820</td>\n",
       "      <td>0.072890</td>\n",
       "      <td>0</td>\n",
       "    </tr>\n",
       "    <tr>\n",
       "      <th>4</th>\n",
       "      <td>4</td>\n",
       "      <td>0.073720</td>\n",
       "      <td>0.003504</td>\n",
       "      <td>0.016209</td>\n",
       "      <td>0.186231</td>\n",
       "      <td>0.003395</td>\n",
       "      <td>0.022270</td>\n",
       "      <td>0.218428</td>\n",
       "      <td>0</td>\n",
       "    </tr>\n",
       "  </tbody>\n",
       "</table>\n",
       "</div>"
      ],
      "text/plain": [
       "   index  zpos_var  xvel_var  yvel_var  zvel_var  xacc_var  yacc_var  \\\n",
       "0      0  0.134980  0.010190  0.007413  0.122343  0.010610  0.014236   \n",
       "1      1  0.081638  0.044725  0.012691  0.232494  0.042590  0.039106   \n",
       "2      2  0.138591  0.110522  0.009268  0.282040  0.071227  0.039771   \n",
       "3      3  0.095979  0.042904  0.005863  0.110072  0.039747  0.021820   \n",
       "4      4  0.073720  0.003504  0.016209  0.186231  0.003395  0.022270   \n",
       "\n",
       "   zacc_var  label  \n",
       "0  0.065308      0  \n",
       "1  0.189655      0  \n",
       "2  0.189879      0  \n",
       "3  0.072890      0  \n",
       "4  0.218428      0  "
      ]
     },
     "execution_count": 6,
     "metadata": {},
     "output_type": "execute_result"
    }
   ],
   "source": [
    "var_csv = var_csv.drop(['xpos_var','ypos_var'], axis=1)\n",
    "var_csv.head()"
   ]
  },
  {
   "cell_type": "code",
   "execution_count": 7,
   "metadata": {},
   "outputs": [
    {
     "data": {
      "text/plain": [
       "Index(['index', 'zpos_mean', 'xvel_mean', 'yvel_mean', 'zvel_mean',\n",
       "       'xacc_mean', 'yacc_mean', 'zacc_mean', 'zpos_var', 'xvel_var',\n",
       "       'yvel_var', 'zvel_var', 'xacc_var', 'yacc_var', 'zacc_var', 'label'],\n",
       "      dtype='object')"
      ]
     },
     "execution_count": 7,
     "metadata": {},
     "output_type": "execute_result"
    }
   ],
   "source": [
    "merged = mean_csv.merge(var_csv, on='index')\n",
    "merged.columns"
   ]
  },
  {
   "cell_type": "code",
   "execution_count": 8,
   "metadata": {},
   "outputs": [
    {
     "data": {
      "text/html": [
       "<div>\n",
       "<style scoped>\n",
       "    .dataframe tbody tr th:only-of-type {\n",
       "        vertical-align: middle;\n",
       "    }\n",
       "\n",
       "    .dataframe tbody tr th {\n",
       "        vertical-align: top;\n",
       "    }\n",
       "\n",
       "    .dataframe thead th {\n",
       "        text-align: right;\n",
       "    }\n",
       "</style>\n",
       "<table border=\"1\" class=\"dataframe\">\n",
       "  <thead>\n",
       "    <tr style=\"text-align: right;\">\n",
       "      <th></th>\n",
       "      <th>index</th>\n",
       "      <th>zpos_mean</th>\n",
       "      <th>xvel_mean</th>\n",
       "      <th>yvel_mean</th>\n",
       "      <th>zvel_mean</th>\n",
       "      <th>xacc_mean</th>\n",
       "      <th>yacc_mean</th>\n",
       "      <th>zacc_mean</th>\n",
       "      <th>zpos_var</th>\n",
       "      <th>xvel_var</th>\n",
       "      <th>yvel_var</th>\n",
       "      <th>zvel_var</th>\n",
       "      <th>xacc_var</th>\n",
       "      <th>yacc_var</th>\n",
       "      <th>zacc_var</th>\n",
       "      <th>label</th>\n",
       "    </tr>\n",
       "  </thead>\n",
       "  <tbody>\n",
       "    <tr>\n",
       "      <th>0</th>\n",
       "      <td>0</td>\n",
       "      <td>1.126524</td>\n",
       "      <td>-0.034340</td>\n",
       "      <td>-0.008131</td>\n",
       "      <td>-0.254972</td>\n",
       "      <td>-0.062188</td>\n",
       "      <td>-0.022162</td>\n",
       "      <td>-0.127762</td>\n",
       "      <td>0.134980</td>\n",
       "      <td>0.010190</td>\n",
       "      <td>0.007413</td>\n",
       "      <td>0.122343</td>\n",
       "      <td>0.010610</td>\n",
       "      <td>0.014236</td>\n",
       "      <td>0.065308</td>\n",
       "      <td>0</td>\n",
       "    </tr>\n",
       "    <tr>\n",
       "      <th>1</th>\n",
       "      <td>1</td>\n",
       "      <td>1.118971</td>\n",
       "      <td>-0.022590</td>\n",
       "      <td>-0.038763</td>\n",
       "      <td>-0.215774</td>\n",
       "      <td>-0.130912</td>\n",
       "      <td>-0.094322</td>\n",
       "      <td>-0.156462</td>\n",
       "      <td>0.081638</td>\n",
       "      <td>0.044725</td>\n",
       "      <td>0.012691</td>\n",
       "      <td>0.232494</td>\n",
       "      <td>0.042590</td>\n",
       "      <td>0.039106</td>\n",
       "      <td>0.189655</td>\n",
       "      <td>0</td>\n",
       "    </tr>\n",
       "    <tr>\n",
       "      <th>2</th>\n",
       "      <td>2</td>\n",
       "      <td>1.058666</td>\n",
       "      <td>0.008053</td>\n",
       "      <td>-0.014171</td>\n",
       "      <td>-0.241596</td>\n",
       "      <td>-0.187329</td>\n",
       "      <td>-0.094175</td>\n",
       "      <td>-0.304099</td>\n",
       "      <td>0.138591</td>\n",
       "      <td>0.110522</td>\n",
       "      <td>0.009268</td>\n",
       "      <td>0.282040</td>\n",
       "      <td>0.071227</td>\n",
       "      <td>0.039771</td>\n",
       "      <td>0.189879</td>\n",
       "      <td>0</td>\n",
       "    </tr>\n",
       "    <tr>\n",
       "      <th>3</th>\n",
       "      <td>3</td>\n",
       "      <td>1.098358</td>\n",
       "      <td>-0.016384</td>\n",
       "      <td>-0.023224</td>\n",
       "      <td>-0.176972</td>\n",
       "      <td>-0.147660</td>\n",
       "      <td>-0.086541</td>\n",
       "      <td>-0.152001</td>\n",
       "      <td>0.095979</td>\n",
       "      <td>0.042904</td>\n",
       "      <td>0.005863</td>\n",
       "      <td>0.110072</td>\n",
       "      <td>0.039747</td>\n",
       "      <td>0.021820</td>\n",
       "      <td>0.072890</td>\n",
       "      <td>0</td>\n",
       "    </tr>\n",
       "    <tr>\n",
       "      <th>4</th>\n",
       "      <td>4</td>\n",
       "      <td>1.036649</td>\n",
       "      <td>-0.033658</td>\n",
       "      <td>0.015930</td>\n",
       "      <td>-0.182137</td>\n",
       "      <td>-0.022553</td>\n",
       "      <td>0.011463</td>\n",
       "      <td>0.136443</td>\n",
       "      <td>0.073720</td>\n",
       "      <td>0.003504</td>\n",
       "      <td>0.016209</td>\n",
       "      <td>0.186231</td>\n",
       "      <td>0.003395</td>\n",
       "      <td>0.022270</td>\n",
       "      <td>0.218428</td>\n",
       "      <td>0</td>\n",
       "    </tr>\n",
       "  </tbody>\n",
       "</table>\n",
       "</div>"
      ],
      "text/plain": [
       "   index  zpos_mean  xvel_mean  yvel_mean  zvel_mean  xacc_mean  yacc_mean  \\\n",
       "0      0   1.126524  -0.034340  -0.008131  -0.254972  -0.062188  -0.022162   \n",
       "1      1   1.118971  -0.022590  -0.038763  -0.215774  -0.130912  -0.094322   \n",
       "2      2   1.058666   0.008053  -0.014171  -0.241596  -0.187329  -0.094175   \n",
       "3      3   1.098358  -0.016384  -0.023224  -0.176972  -0.147660  -0.086541   \n",
       "4      4   1.036649  -0.033658   0.015930  -0.182137  -0.022553   0.011463   \n",
       "\n",
       "   zacc_mean  zpos_var  xvel_var  yvel_var  zvel_var  xacc_var  yacc_var  \\\n",
       "0  -0.127762  0.134980  0.010190  0.007413  0.122343  0.010610  0.014236   \n",
       "1  -0.156462  0.081638  0.044725  0.012691  0.232494  0.042590  0.039106   \n",
       "2  -0.304099  0.138591  0.110522  0.009268  0.282040  0.071227  0.039771   \n",
       "3  -0.152001  0.095979  0.042904  0.005863  0.110072  0.039747  0.021820   \n",
       "4   0.136443  0.073720  0.003504  0.016209  0.186231  0.003395  0.022270   \n",
       "\n",
       "   zacc_var  label  \n",
       "0  0.065308      0  \n",
       "1  0.189655      0  \n",
       "2  0.189879      0  \n",
       "3  0.072890      0  \n",
       "4  0.218428      0  "
      ]
     },
     "execution_count": 8,
     "metadata": {},
     "output_type": "execute_result"
    }
   ],
   "source": [
    "merged.head()"
   ]
  },
  {
   "cell_type": "code",
   "execution_count": 9,
   "metadata": {},
   "outputs": [
    {
     "data": {
      "text/html": [
       "<div>\n",
       "<style scoped>\n",
       "    .dataframe tbody tr th:only-of-type {\n",
       "        vertical-align: middle;\n",
       "    }\n",
       "\n",
       "    .dataframe tbody tr th {\n",
       "        vertical-align: top;\n",
       "    }\n",
       "\n",
       "    .dataframe thead th {\n",
       "        text-align: right;\n",
       "    }\n",
       "</style>\n",
       "<table border=\"1\" class=\"dataframe\">\n",
       "  <thead>\n",
       "    <tr style=\"text-align: right;\">\n",
       "      <th></th>\n",
       "      <th>zpos_mean</th>\n",
       "      <th>xvel_mean</th>\n",
       "      <th>yvel_mean</th>\n",
       "      <th>zvel_mean</th>\n",
       "      <th>xacc_mean</th>\n",
       "      <th>yacc_mean</th>\n",
       "      <th>zacc_mean</th>\n",
       "      <th>zpos_var</th>\n",
       "      <th>xvel_var</th>\n",
       "      <th>yvel_var</th>\n",
       "      <th>zvel_var</th>\n",
       "      <th>xacc_var</th>\n",
       "      <th>yacc_var</th>\n",
       "      <th>zacc_var</th>\n",
       "    </tr>\n",
       "  </thead>\n",
       "  <tbody>\n",
       "    <tr>\n",
       "      <th>0</th>\n",
       "      <td>1.126524</td>\n",
       "      <td>-0.034340</td>\n",
       "      <td>-0.008131</td>\n",
       "      <td>-0.254972</td>\n",
       "      <td>-0.062188</td>\n",
       "      <td>-0.022162</td>\n",
       "      <td>-0.127762</td>\n",
       "      <td>0.134980</td>\n",
       "      <td>0.010190</td>\n",
       "      <td>0.007413</td>\n",
       "      <td>0.122343</td>\n",
       "      <td>0.010610</td>\n",
       "      <td>0.014236</td>\n",
       "      <td>0.065308</td>\n",
       "    </tr>\n",
       "    <tr>\n",
       "      <th>1</th>\n",
       "      <td>1.118971</td>\n",
       "      <td>-0.022590</td>\n",
       "      <td>-0.038763</td>\n",
       "      <td>-0.215774</td>\n",
       "      <td>-0.130912</td>\n",
       "      <td>-0.094322</td>\n",
       "      <td>-0.156462</td>\n",
       "      <td>0.081638</td>\n",
       "      <td>0.044725</td>\n",
       "      <td>0.012691</td>\n",
       "      <td>0.232494</td>\n",
       "      <td>0.042590</td>\n",
       "      <td>0.039106</td>\n",
       "      <td>0.189655</td>\n",
       "    </tr>\n",
       "    <tr>\n",
       "      <th>2</th>\n",
       "      <td>1.058666</td>\n",
       "      <td>0.008053</td>\n",
       "      <td>-0.014171</td>\n",
       "      <td>-0.241596</td>\n",
       "      <td>-0.187329</td>\n",
       "      <td>-0.094175</td>\n",
       "      <td>-0.304099</td>\n",
       "      <td>0.138591</td>\n",
       "      <td>0.110522</td>\n",
       "      <td>0.009268</td>\n",
       "      <td>0.282040</td>\n",
       "      <td>0.071227</td>\n",
       "      <td>0.039771</td>\n",
       "      <td>0.189879</td>\n",
       "    </tr>\n",
       "    <tr>\n",
       "      <th>3</th>\n",
       "      <td>1.098358</td>\n",
       "      <td>-0.016384</td>\n",
       "      <td>-0.023224</td>\n",
       "      <td>-0.176972</td>\n",
       "      <td>-0.147660</td>\n",
       "      <td>-0.086541</td>\n",
       "      <td>-0.152001</td>\n",
       "      <td>0.095979</td>\n",
       "      <td>0.042904</td>\n",
       "      <td>0.005863</td>\n",
       "      <td>0.110072</td>\n",
       "      <td>0.039747</td>\n",
       "      <td>0.021820</td>\n",
       "      <td>0.072890</td>\n",
       "    </tr>\n",
       "    <tr>\n",
       "      <th>4</th>\n",
       "      <td>1.036649</td>\n",
       "      <td>-0.033658</td>\n",
       "      <td>0.015930</td>\n",
       "      <td>-0.182137</td>\n",
       "      <td>-0.022553</td>\n",
       "      <td>0.011463</td>\n",
       "      <td>0.136443</td>\n",
       "      <td>0.073720</td>\n",
       "      <td>0.003504</td>\n",
       "      <td>0.016209</td>\n",
       "      <td>0.186231</td>\n",
       "      <td>0.003395</td>\n",
       "      <td>0.022270</td>\n",
       "      <td>0.218428</td>\n",
       "    </tr>\n",
       "  </tbody>\n",
       "</table>\n",
       "</div>"
      ],
      "text/plain": [
       "   zpos_mean  xvel_mean  yvel_mean  zvel_mean  xacc_mean  yacc_mean  \\\n",
       "0   1.126524  -0.034340  -0.008131  -0.254972  -0.062188  -0.022162   \n",
       "1   1.118971  -0.022590  -0.038763  -0.215774  -0.130912  -0.094322   \n",
       "2   1.058666   0.008053  -0.014171  -0.241596  -0.187329  -0.094175   \n",
       "3   1.098358  -0.016384  -0.023224  -0.176972  -0.147660  -0.086541   \n",
       "4   1.036649  -0.033658   0.015930  -0.182137  -0.022553   0.011463   \n",
       "\n",
       "   zacc_mean  zpos_var  xvel_var  yvel_var  zvel_var  xacc_var  yacc_var  \\\n",
       "0  -0.127762  0.134980  0.010190  0.007413  0.122343  0.010610  0.014236   \n",
       "1  -0.156462  0.081638  0.044725  0.012691  0.232494  0.042590  0.039106   \n",
       "2  -0.304099  0.138591  0.110522  0.009268  0.282040  0.071227  0.039771   \n",
       "3  -0.152001  0.095979  0.042904  0.005863  0.110072  0.039747  0.021820   \n",
       "4   0.136443  0.073720  0.003504  0.016209  0.186231  0.003395  0.022270   \n",
       "\n",
       "   zacc_var  \n",
       "0  0.065308  \n",
       "1  0.189655  \n",
       "2  0.189879  \n",
       "3  0.072890  \n",
       "4  0.218428  "
      ]
     },
     "execution_count": 9,
     "metadata": {},
     "output_type": "execute_result"
    }
   ],
   "source": [
    "features = merged.drop(['index','label'], axis=1)\n",
    "features.head()"
   ]
  },
  {
   "cell_type": "code",
   "execution_count": 10,
   "metadata": {},
   "outputs": [
    {
     "data": {
      "text/plain": [
       "array([0, 0, 0, 0, 0, 0, 0, 0, 0, 0, 0, 0, 0, 0, 0, 0, 0, 0, 0, 0, 0, 0,\n",
       "       0, 0, 0, 0, 0, 0, 0, 0, 0, 0, 0, 0, 0, 0, 0, 0, 0, 0, 0, 0, 0, 0,\n",
       "       0, 0, 0, 0, 0, 0, 0, 0, 0, 0, 0, 0, 0, 0, 0, 0, 0, 0, 0, 0, 0, 0,\n",
       "       0, 0, 0, 0, 0, 0, 0, 0, 0, 0, 0, 0, 0, 0, 0, 0, 0, 0, 0, 0, 0, 0,\n",
       "       0, 0, 0, 0, 0, 0, 0, 0, 0, 0, 0, 0, 0, 0, 0, 0, 0, 0, 0, 0, 0, 0,\n",
       "       0, 0, 0, 0, 0, 0, 0, 0, 0, 0, 0, 0, 0, 0, 0, 0, 0, 0, 0, 0, 0, 0,\n",
       "       0, 0, 0, 0, 0, 0, 0, 0, 0, 0, 0, 0, 0, 0, 0, 0, 0, 0, 0, 0, 0, 0,\n",
       "       0, 0, 0, 0, 0, 0, 0, 0, 0, 0, 0, 0, 0, 0, 0, 0, 0, 0, 0, 0, 0, 0,\n",
       "       0, 0, 0, 0, 0, 0, 0, 0, 0, 0, 0, 0, 0, 0, 0, 0, 0, 0, 0, 0, 0, 0,\n",
       "       0, 0, 0, 0, 0, 0, 0, 0, 0, 0, 0, 0, 0, 0, 0, 0, 0, 0, 0, 0, 0, 0,\n",
       "       0, 0, 0, 0, 0, 0, 0, 0, 0, 0, 0, 0, 0, 0, 0, 0, 0, 0, 0, 0, 0, 0,\n",
       "       0, 0, 0, 0, 0, 0, 0, 0, 0, 0, 0, 0, 0, 0, 0, 0, 0, 0, 0, 0, 0, 0,\n",
       "       0, 0, 0, 0, 0, 0, 0, 0, 0, 0, 0, 0, 0, 0, 0, 0, 0, 0, 0, 0, 0, 0,\n",
       "       0, 0, 0, 0, 0, 0, 0, 0, 0, 0, 0, 0, 0, 0, 0, 0, 0, 0, 0, 0, 0, 0,\n",
       "       0, 0, 0, 0, 0, 0, 0, 0, 0, 0, 0, 0, 0, 0, 0, 0, 0, 0, 0, 0, 0, 0,\n",
       "       0, 0, 0, 0, 0, 0, 0, 0, 0, 0, 0, 0, 0, 0, 0, 0, 0, 0, 0, 0, 0, 0,\n",
       "       0, 0, 0, 0, 0, 0, 0, 0, 0, 0, 0, 0, 0, 0, 0, 0, 0, 0, 0, 0, 0, 0,\n",
       "       0, 0, 0, 0, 0, 0, 0, 0, 0, 0, 0, 0, 0, 0, 0, 0, 1, 1, 1, 1, 1, 1,\n",
       "       1, 1, 1, 1, 1, 1, 1, 1, 1, 1, 1, 1, 1, 1, 1, 1, 1, 1, 1, 1, 1, 1,\n",
       "       1, 1, 1, 1, 1, 1, 1, 1, 1, 1, 1, 1, 1, 1, 1, 1, 1, 1, 1, 1, 1, 1,\n",
       "       1, 1, 1, 1, 1, 1, 1, 1, 1, 1, 1, 1, 1, 1, 1, 1, 1, 1, 1, 1, 1, 1,\n",
       "       1, 1, 1, 1, 1, 1, 1, 1, 1, 1, 1, 1, 1, 1, 1, 1, 1, 1, 1, 1, 1, 1,\n",
       "       1, 1, 1, 1, 1, 1, 1, 1, 1, 1, 1, 1, 1, 1, 1, 1, 1, 1, 1, 1, 1, 1,\n",
       "       1, 1, 1, 1, 1, 1, 1, 1, 1, 1, 1, 1, 1, 1], dtype=int64)"
      ]
     },
     "execution_count": 10,
     "metadata": {},
     "output_type": "execute_result"
    }
   ],
   "source": [
    "X = features.values\n",
    "Y = merged['label'].values\n",
    "Y"
   ]
  },
  {
   "cell_type": "code",
   "execution_count": 11,
   "metadata": {},
   "outputs": [],
   "source": [
    "model_to_evaluate = []\n",
    "model_to_evaluate.append(('KNN', KNeighborsClassifier(), 'K-nearest Neighbor'))\n",
    "model_to_evaluate.append(('DT', DecisionTreeClassifier(), 'DecisionTree'))\n",
    "model_to_evaluate.append(('NB', GaussianNB(), 'Gaussian Naive-Bayes'))\n",
    "model_to_evaluate.append(('SVM', SVC(), 'Support Vector Machine'))"
   ]
  },
  {
   "cell_type": "code",
   "execution_count": 12,
   "metadata": {},
   "outputs": [
    {
     "name": "stdout",
     "output_type": "stream",
     "text": [
      "Akurasi KNN: 0.9693043651584613 dengan std dev 0.027469380936381477\n",
      "\n",
      "Akurasi DT: 0.9539011804309792 dengan std dev 0.020370179183532167\n",
      "\n",
      "Akurasi NB: 0.9327619427280579 dengan std dev 0.026565176062387477\n",
      "\n",
      "Akurasi SVM: 0.9750736385179278 dengan std dev 0.02707655359935196\n",
      "\n"
     ]
    }
   ],
   "source": [
    "results=[]\n",
    "names=[]\n",
    "\n",
    "for name, model, full_name in model_to_evaluate:\n",
    "    kfold = StratifiedKFold(n_splits=3, random_state=1, shuffle=True)\n",
    "    cv_result = cross_val_score(model, X, Y, cv=kfold, scoring='accuracy')\n",
    "    results.append(cv_result)\n",
    "    names.append(name)\n",
    "    print(f'Akurasi {name}: {cv_result.mean()} dengan std dev {cv_result.std()}')\n",
    "    print()"
   ]
  },
  {
   "cell_type": "code",
   "execution_count": 13,
   "metadata": {},
   "outputs": [
    {
     "data": {
      "image/png": "[encoded data removed]",
      "text/plain": [
       "<Figure size 600x600 with 1 Axes>"
      ]
     },
     "metadata": {},
     "output_type": "display_data"
    }
   ],
   "source": [
    "plt.figure(figsize=(6,6))\n",
    "plt.boxplot(list(map(lambda item: item*100, results)), labels=names)\n",
    "plt.title('Hasil Uji Akurasi Validasi dengan Stratified K-Fold Lipat 3', fontdict={'fontweight': 'normal', 'fontsize':'14'})\n",
    "plt.xlabel('Classifier')\n",
    "plt.ylabel('CV Result (in %)')\n",
    "# plt.savefig('CV Result.png', dpi=300)\n",
    "plt.show()\n"
   ]
  },
  {
   "cell_type": "code",
   "execution_count": 14,
   "metadata": {},
   "outputs": [],
   "source": [
    "X_train, X_val, Y_train, Y_val = train_test_split(X, Y, test_size=0.10, random_state=1)"
   ]
  },
  {
   "cell_type": "code",
   "execution_count": 15,
   "metadata": {},
   "outputs": [],
   "source": [
    "plot_label = ['Tidak Jatuh', 'Jatuh']"
   ]
  },
  {
   "cell_type": "code",
   "execution_count": 16,
   "metadata": {},
   "outputs": [
    {
     "name": "stdout",
     "output_type": "stream",
     "text": [
      "              precision    recall  f1-score   support\n",
      "\n",
      "           0       0.95      1.00      0.97        38\n",
      "           1       1.00      0.86      0.92        14\n",
      "\n",
      "    accuracy                           0.96        52\n",
      "   macro avg       0.97      0.93      0.95        52\n",
      "weighted avg       0.96      0.96      0.96        52\n",
      "\n",
      "              precision    recall  f1-score   support\n",
      "\n",
      "           0       0.90      0.97      0.94        38\n",
      "           1       0.91      0.71      0.80        14\n",
      "\n",
      "    accuracy                           0.90        52\n",
      "   macro avg       0.91      0.84      0.87        52\n",
      "weighted avg       0.90      0.90      0.90        52\n",
      "\n",
      "              precision    recall  f1-score   support\n",
      "\n",
      "           0       0.97      0.95      0.96        38\n",
      "           1       0.87      0.93      0.90        14\n",
      "\n",
      "    accuracy                           0.94        52\n",
      "   macro avg       0.92      0.94      0.93        52\n",
      "weighted avg       0.94      0.94      0.94        52\n",
      "\n",
      "              precision    recall  f1-score   support\n",
      "\n",
      "           0       0.97      1.00      0.99        38\n",
      "           1       1.00      0.93      0.96        14\n",
      "\n",
      "    accuracy                           0.98        52\n",
      "   macro avg       0.99      0.96      0.97        52\n",
      "weighted avg       0.98      0.98      0.98        52\n",
      "\n"
     ]
    },
    {
     "data": {
      "image/png": "[encoded data removed]",
      "text/plain": [
       "<Figure size 640x480 with 2 Axes>"
      ]
     },
     "metadata": {},
     "output_type": "display_data"
    },
    {
     "data": {
      "image/png": "[encoded data removed]",
      "text/plain": [
       "<Figure size 640x480 with 2 Axes>"
      ]
     },
     "metadata": {},
     "output_type": "display_data"
    },
    {
     "data": {
      "image/png": "[encoded data removed]",
      "text/plain": [
       "<Figure size 640x480 with 2 Axes>"
      ]
     },
     "metadata": {},
     "output_type": "display_data"
    },
    {
     "data": {
      "image/png": "[encoded data removed]",
      "text/plain": [
       "<Figure size 640x480 with 2 Axes>"
      ]
     },
     "metadata": {},
     "output_type": "display_data"
    }
   ],
   "source": [
    "for name, model, full_name in model_to_evaluate:\n",
    "    clf = model\n",
    "    clf.fit(X_train, Y_train)\n",
    "    predictions = clf.predict(X_val)\n",
    "    print(classification_report(Y_val, predictions))\n",
    "    disp = ConfusionMatrixDisplay.from_predictions(Y_val, predictions, display_labels=plot_label)\n",
    "    disp.ax_.set_title(f'Confusion Matrix Result of {full_name}')"
   ]
  }
 ],
 "metadata": {
  "kernelspec": {
   "display_name": "FYS1",
   "language": "python",
   "name": "python3"
  },
  "language_info": {
   "codemirror_mode": {
    "name": "ipython",
    "version": 3
   },
   "file_extension": ".py",
   "mimetype": "text/x-python",
   "name": "python",
   "nbconvert_exporter": "python",
   "pygments_lexer": "ipython3",
   "version": "3.7.3"
  }
 },
 "nbformat": 4,
 "nbformat_minor": 2
}
