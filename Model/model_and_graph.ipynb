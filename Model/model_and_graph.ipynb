{
 "cells": [
  {
   "cell_type": "markdown",
   "metadata": {},
   "source": [
    "# Model Making Process"
   ]
  },
  {
   "cell_type": "markdown",
   "metadata": {},
   "source": [
    "## Preprocess the data"
   ]
  },
  {
   "cell_type": "markdown",
   "metadata": {},
   "source": [
    "### Imports"
   ]
  },
  {
   "cell_type": "code",
   "execution_count": 1,
   "metadata": {},
   "outputs": [
    {
     "name": "stdout",
     "output_type": "stream",
     "text": [
      "Python ver: 3.9.19\n",
      "Scikit-learn ver: 1.0.2\n",
      "Pandas ver: 2.2.2\n",
      "Numpy ver: 1.26.4\n"
     ]
    }
   ],
   "source": [
    "import numpy as np\n",
    "import pandas as pd\n",
    "import matplotlib.pyplot as plt\n",
    "import sklearn\n",
    "\n",
    "from sklearn.model_selection import train_test_split, cross_val_score, StratifiedKFold\n",
    "from sklearn.tree import DecisionTreeClassifier\n",
    "from sklearn.neighbors import KNeighborsClassifier\n",
    "from sklearn.naive_bayes import GaussianNB\n",
    "\n",
    "from sklearn.metrics import classification_report, ConfusionMatrixDisplay\n",
    "\n",
    "import platform\n",
    "import os\n",
    "import time\n",
    "\n",
    "print('Python ver:', platform.python_version())\n",
    "print('Scikit-learn ver:', sklearn.__version__)\n",
    "print('Pandas ver:', pd.__version__)\n",
    "print('Numpy ver:', np.__version__)"
   ]
  },
  {
   "cell_type": "markdown",
   "metadata": {},
   "source": [
    "### Access the Dataset"
   ]
  },
  {
   "cell_type": "code",
   "execution_count": 2,
   "metadata": {},
   "outputs": [],
   "source": [
    "# Read csv and check the data\n",
    "cwd = os.path.dirname(os.path.abspath('__file__'))\n",
    "dataset_dir = os.path.join(cwd, '..', 'Transformed dataset')\n",
    "mean_path = os.path.join(dataset_dir, 'transformed_mean.csv')\n",
    "var_path = os.path.join(dataset_dir, 'transformed_var.csv')\n",
    "\n",
    "mean_csv = pd.read_csv(mean_path)\n",
    "var_csv = pd.read_csv(var_path)"
   ]
  },
  {
   "cell_type": "code",
   "execution_count": 3,
   "metadata": {},
   "outputs": [
    {
     "data": {
      "text/html": [
       "<div>\n",
       "<style scoped>\n",
       "    .dataframe tbody tr th:only-of-type {\n",
       "        vertical-align: middle;\n",
       "    }\n",
       "\n",
       "    .dataframe tbody tr th {\n",
       "        vertical-align: top;\n",
       "    }\n",
       "\n",
       "    .dataframe thead th {\n",
       "        text-align: right;\n",
       "    }\n",
       "</style>\n",
       "<table border=\"1\" class=\"dataframe\">\n",
       "  <thead>\n",
       "    <tr style=\"text-align: right;\">\n",
       "      <th></th>\n",
       "      <th>Unnamed: 0</th>\n",
       "      <th>xpos</th>\n",
       "      <th>ypos</th>\n",
       "      <th>zpos</th>\n",
       "      <th>xvel</th>\n",
       "      <th>yvel</th>\n",
       "      <th>zvel</th>\n",
       "      <th>xacc</th>\n",
       "      <th>yacc</th>\n",
       "      <th>zacc</th>\n",
       "      <th>label</th>\n",
       "    </tr>\n",
       "  </thead>\n",
       "  <tbody>\n",
       "    <tr>\n",
       "      <th>0</th>\n",
       "      <td>0</td>\n",
       "      <td>-0.132441</td>\n",
       "      <td>1.818894</td>\n",
       "      <td>1.126524</td>\n",
       "      <td>-0.034340</td>\n",
       "      <td>-0.008131</td>\n",
       "      <td>-0.254972</td>\n",
       "      <td>-0.062188</td>\n",
       "      <td>-0.022162</td>\n",
       "      <td>-0.127762</td>\n",
       "      <td>0</td>\n",
       "    </tr>\n",
       "    <tr>\n",
       "      <th>1</th>\n",
       "      <td>1</td>\n",
       "      <td>-0.144392</td>\n",
       "      <td>1.793557</td>\n",
       "      <td>1.118971</td>\n",
       "      <td>-0.022590</td>\n",
       "      <td>-0.038763</td>\n",
       "      <td>-0.215774</td>\n",
       "      <td>-0.130912</td>\n",
       "      <td>-0.094322</td>\n",
       "      <td>-0.156462</td>\n",
       "      <td>0</td>\n",
       "    </tr>\n",
       "    <tr>\n",
       "      <th>2</th>\n",
       "      <td>2</td>\n",
       "      <td>-0.309730</td>\n",
       "      <td>1.736425</td>\n",
       "      <td>1.058666</td>\n",
       "      <td>0.008053</td>\n",
       "      <td>-0.014171</td>\n",
       "      <td>-0.241596</td>\n",
       "      <td>-0.187329</td>\n",
       "      <td>-0.094175</td>\n",
       "      <td>-0.304099</td>\n",
       "      <td>0</td>\n",
       "    </tr>\n",
       "    <tr>\n",
       "      <th>3</th>\n",
       "      <td>3</td>\n",
       "      <td>-0.312120</td>\n",
       "      <td>1.785316</td>\n",
       "      <td>1.098358</td>\n",
       "      <td>-0.016384</td>\n",
       "      <td>-0.023224</td>\n",
       "      <td>-0.176972</td>\n",
       "      <td>-0.147660</td>\n",
       "      <td>-0.086541</td>\n",
       "      <td>-0.152001</td>\n",
       "      <td>0</td>\n",
       "    </tr>\n",
       "    <tr>\n",
       "      <th>4</th>\n",
       "      <td>4</td>\n",
       "      <td>-0.231677</td>\n",
       "      <td>1.737191</td>\n",
       "      <td>1.036649</td>\n",
       "      <td>-0.033658</td>\n",
       "      <td>0.015930</td>\n",
       "      <td>-0.182137</td>\n",
       "      <td>-0.022553</td>\n",
       "      <td>0.011463</td>\n",
       "      <td>0.136443</td>\n",
       "      <td>0</td>\n",
       "    </tr>\n",
       "  </tbody>\n",
       "</table>\n",
       "</div>"
      ],
      "text/plain": [
       "   Unnamed: 0      xpos      ypos      zpos      xvel      yvel      zvel  \\\n",
       "0           0 -0.132441  1.818894  1.126524 -0.034340 -0.008131 -0.254972   \n",
       "1           1 -0.144392  1.793557  1.118971 -0.022590 -0.038763 -0.215774   \n",
       "2           2 -0.309730  1.736425  1.058666  0.008053 -0.014171 -0.241596   \n",
       "3           3 -0.312120  1.785316  1.098358 -0.016384 -0.023224 -0.176972   \n",
       "4           4 -0.231677  1.737191  1.036649 -0.033658  0.015930 -0.182137   \n",
       "\n",
       "       xacc      yacc      zacc  label  \n",
       "0 -0.062188 -0.022162 -0.127762      0  \n",
       "1 -0.130912 -0.094322 -0.156462      0  \n",
       "2 -0.187329 -0.094175 -0.304099      0  \n",
       "3 -0.147660 -0.086541 -0.152001      0  \n",
       "4 -0.022553  0.011463  0.136443      0  "
      ]
     },
     "execution_count": 3,
     "metadata": {},
     "output_type": "execute_result"
    }
   ],
   "source": [
    "mean_csv.head()"
   ]
  },
  {
   "cell_type": "code",
   "execution_count": 4,
   "metadata": {},
   "outputs": [
    {
     "data": {
      "text/plain": [
       "Unnamed: 0    520\n",
       "xpos          520\n",
       "ypos          520\n",
       "zpos          520\n",
       "xvel          520\n",
       "yvel          520\n",
       "zvel          520\n",
       "xacc          520\n",
       "yacc          520\n",
       "zacc          520\n",
       "label         520\n",
       "dtype: int64"
      ]
     },
     "execution_count": 4,
     "metadata": {},
     "output_type": "execute_result"
    }
   ],
   "source": [
    "mean_csv.count()"
   ]
  },
  {
   "cell_type": "code",
   "execution_count": 5,
   "metadata": {},
   "outputs": [
    {
     "data": {
      "text/html": [
       "<div>\n",
       "<style scoped>\n",
       "    .dataframe tbody tr th:only-of-type {\n",
       "        vertical-align: middle;\n",
       "    }\n",
       "\n",
       "    .dataframe tbody tr th {\n",
       "        vertical-align: top;\n",
       "    }\n",
       "\n",
       "    .dataframe thead th {\n",
       "        text-align: right;\n",
       "    }\n",
       "</style>\n",
       "<table border=\"1\" class=\"dataframe\">\n",
       "  <thead>\n",
       "    <tr style=\"text-align: right;\">\n",
       "      <th></th>\n",
       "      <th>Unnamed: 0</th>\n",
       "      <th>xpos</th>\n",
       "      <th>ypos</th>\n",
       "      <th>zpos</th>\n",
       "      <th>xvel</th>\n",
       "      <th>yvel</th>\n",
       "      <th>zvel</th>\n",
       "      <th>xacc</th>\n",
       "      <th>yacc</th>\n",
       "      <th>zacc</th>\n",
       "      <th>label</th>\n",
       "    </tr>\n",
       "  </thead>\n",
       "  <tbody>\n",
       "    <tr>\n",
       "      <th>0</th>\n",
       "      <td>0</td>\n",
       "      <td>0.001940</td>\n",
       "      <td>0.008719</td>\n",
       "      <td>0.134980</td>\n",
       "      <td>0.010190</td>\n",
       "      <td>0.007413</td>\n",
       "      <td>0.122343</td>\n",
       "      <td>0.010610</td>\n",
       "      <td>0.014236</td>\n",
       "      <td>0.065308</td>\n",
       "      <td>0</td>\n",
       "    </tr>\n",
       "    <tr>\n",
       "      <th>1</th>\n",
       "      <td>1</td>\n",
       "      <td>0.002276</td>\n",
       "      <td>0.010267</td>\n",
       "      <td>0.081638</td>\n",
       "      <td>0.044725</td>\n",
       "      <td>0.012691</td>\n",
       "      <td>0.232494</td>\n",
       "      <td>0.042590</td>\n",
       "      <td>0.039106</td>\n",
       "      <td>0.189655</td>\n",
       "      <td>0</td>\n",
       "    </tr>\n",
       "    <tr>\n",
       "      <th>2</th>\n",
       "      <td>2</td>\n",
       "      <td>0.005804</td>\n",
       "      <td>0.017488</td>\n",
       "      <td>0.138591</td>\n",
       "      <td>0.110522</td>\n",
       "      <td>0.009268</td>\n",
       "      <td>0.282040</td>\n",
       "      <td>0.071227</td>\n",
       "      <td>0.039771</td>\n",
       "      <td>0.189879</td>\n",
       "      <td>0</td>\n",
       "    </tr>\n",
       "    <tr>\n",
       "      <th>3</th>\n",
       "      <td>3</td>\n",
       "      <td>0.003112</td>\n",
       "      <td>0.008101</td>\n",
       "      <td>0.095979</td>\n",
       "      <td>0.042904</td>\n",
       "      <td>0.005863</td>\n",
       "      <td>0.110072</td>\n",
       "      <td>0.039747</td>\n",
       "      <td>0.021820</td>\n",
       "      <td>0.072890</td>\n",
       "      <td>0</td>\n",
       "    </tr>\n",
       "    <tr>\n",
       "      <th>4</th>\n",
       "      <td>4</td>\n",
       "      <td>0.000865</td>\n",
       "      <td>0.005119</td>\n",
       "      <td>0.073720</td>\n",
       "      <td>0.003504</td>\n",
       "      <td>0.016209</td>\n",
       "      <td>0.186231</td>\n",
       "      <td>0.003395</td>\n",
       "      <td>0.022270</td>\n",
       "      <td>0.218428</td>\n",
       "      <td>0</td>\n",
       "    </tr>\n",
       "  </tbody>\n",
       "</table>\n",
       "</div>"
      ],
      "text/plain": [
       "   Unnamed: 0      xpos      ypos      zpos      xvel      yvel      zvel  \\\n",
       "0           0  0.001940  0.008719  0.134980  0.010190  0.007413  0.122343   \n",
       "1           1  0.002276  0.010267  0.081638  0.044725  0.012691  0.232494   \n",
       "2           2  0.005804  0.017488  0.138591  0.110522  0.009268  0.282040   \n",
       "3           3  0.003112  0.008101  0.095979  0.042904  0.005863  0.110072   \n",
       "4           4  0.000865  0.005119  0.073720  0.003504  0.016209  0.186231   \n",
       "\n",
       "       xacc      yacc      zacc  label  \n",
       "0  0.010610  0.014236  0.065308      0  \n",
       "1  0.042590  0.039106  0.189655      0  \n",
       "2  0.071227  0.039771  0.189879      0  \n",
       "3  0.039747  0.021820  0.072890      0  \n",
       "4  0.003395  0.022270  0.218428      0  "
      ]
     },
     "execution_count": 5,
     "metadata": {},
     "output_type": "execute_result"
    }
   ],
   "source": [
    "var_csv.head()"
   ]
  },
  {
   "cell_type": "code",
   "execution_count": 6,
   "metadata": {},
   "outputs": [
    {
     "data": {
      "text/plain": [
       "Unnamed: 0    520\n",
       "xpos          520\n",
       "ypos          520\n",
       "zpos          520\n",
       "xvel          520\n",
       "yvel          520\n",
       "zvel          520\n",
       "xacc          520\n",
       "yacc          520\n",
       "zacc          520\n",
       "label         520\n",
       "dtype: int64"
      ]
     },
     "execution_count": 6,
     "metadata": {},
     "output_type": "execute_result"
    }
   ],
   "source": [
    "var_csv.count()"
   ]
  },
  {
   "cell_type": "markdown",
   "metadata": {},
   "source": [
    "### Merging the dataset into a single DataFrame"
   ]
  },
  {
   "cell_type": "code",
   "execution_count": 7,
   "metadata": {},
   "outputs": [
    {
     "data": {
      "text/plain": [
       "Index(['index', 'xpos_mean', 'ypos_mean', 'zpos_mean', 'xvel_mean',\n",
       "       'yvel_mean', 'zvel_mean', 'xacc_mean', 'yacc_mean', 'zacc_mean'],\n",
       "      dtype='object')"
      ]
     },
     "execution_count": 7,
     "metadata": {},
     "output_type": "execute_result"
    }
   ],
   "source": [
    "mean_csv = mean_csv.drop(columns=[\"label\"])\n",
    "mean_csv = mean_csv.add_suffix(\"_mean\")\n",
    "mean_csv.columns = mean_csv.columns.str.replace(\"Unnamed: 0_mean\", \"index\")\n",
    "mean_csv.columns"
   ]
  },
  {
   "cell_type": "code",
   "execution_count": 8,
   "metadata": {},
   "outputs": [
    {
     "data": {
      "text/plain": [
       "Index(['index', 'xpos_var', 'ypos_var', 'zpos_var', 'xvel_var', 'yvel_var',\n",
       "       'zvel_var', 'xacc_var', 'yacc_var', 'zacc_var', 'label'],\n",
       "      dtype='object')"
      ]
     },
     "execution_count": 8,
     "metadata": {},
     "output_type": "execute_result"
    }
   ],
   "source": [
    "var_csv = var_csv.add_suffix(\"_var\")\n",
    "var_csv.columns = var_csv.columns.str.replace(\"Unnamed: 0_var\", 'index')\n",
    "var_csv.columns = var_csv.columns.str.replace(\"label_var\", 'label')\n",
    "var_csv.columns"
   ]
  },
  {
   "cell_type": "code",
   "execution_count": 9,
   "metadata": {},
   "outputs": [
    {
     "data": {
      "text/plain": [
       "Index(['index', 'xpos_mean', 'ypos_mean', 'zpos_mean', 'xvel_mean',\n",
       "       'yvel_mean', 'zvel_mean', 'xacc_mean', 'yacc_mean', 'zacc_mean',\n",
       "       'xpos_var', 'ypos_var', 'zpos_var', 'xvel_var', 'yvel_var', 'zvel_var',\n",
       "       'xacc_var', 'yacc_var', 'zacc_var', 'label'],\n",
       "      dtype='object')"
      ]
     },
     "execution_count": 9,
     "metadata": {},
     "output_type": "execute_result"
    }
   ],
   "source": [
    "merged = mean_csv.merge(var_csv, on='index')\n",
    "merged.columns"
   ]
  },
  {
   "cell_type": "code",
   "execution_count": 10,
   "metadata": {},
   "outputs": [
    {
     "data": {
      "text/plain": [
       "index        520\n",
       "xpos_mean    520\n",
       "ypos_mean    520\n",
       "zpos_mean    520\n",
       "xvel_mean    520\n",
       "yvel_mean    520\n",
       "zvel_mean    520\n",
       "xacc_mean    520\n",
       "yacc_mean    520\n",
       "zacc_mean    520\n",
       "xpos_var     520\n",
       "ypos_var     520\n",
       "zpos_var     520\n",
       "xvel_var     520\n",
       "yvel_var     520\n",
       "zvel_var     520\n",
       "xacc_var     520\n",
       "yacc_var     520\n",
       "zacc_var     520\n",
       "label        520\n",
       "dtype: int64"
      ]
     },
     "execution_count": 10,
     "metadata": {},
     "output_type": "execute_result"
    }
   ],
   "source": [
    "merged.count()"
   ]
  },
  {
   "cell_type": "markdown",
   "metadata": {},
   "source": [
    "## Making the model"
   ]
  },
  {
   "cell_type": "markdown",
   "metadata": {},
   "source": [
    "### Assign variables"
   ]
  },
  {
   "cell_type": "code",
   "execution_count": 11,
   "metadata": {},
   "outputs": [
    {
     "data": {
      "text/plain": [
       "Index(['xpos_mean', 'ypos_mean', 'zpos_mean', 'xvel_mean', 'yvel_mean',\n",
       "       'zvel_mean', 'xacc_mean', 'yacc_mean', 'zacc_mean', 'xpos_var',\n",
       "       'ypos_var', 'zpos_var', 'xvel_var', 'yvel_var', 'zvel_var', 'xacc_var',\n",
       "       'yacc_var', 'zacc_var'],\n",
       "      dtype='object')"
      ]
     },
     "execution_count": 11,
     "metadata": {},
     "output_type": "execute_result"
    }
   ],
   "source": [
    "features = merged.drop(['label', 'index'], axis=1)\n",
    "features.columns"
   ]
  },
  {
   "cell_type": "code",
   "execution_count": 12,
   "metadata": {},
   "outputs": [
    {
     "data": {
      "text/plain": [
       "array([[-0.13244105,  1.81889426,  1.1265242 , ...,  0.01061019,\n",
       "         0.01423574,  0.06530786],\n",
       "       [-0.14439181,  1.79355669,  1.1189715 , ...,  0.04259027,\n",
       "         0.03910582,  0.18965507],\n",
       "       [-0.30973048,  1.73642539,  1.05866555, ...,  0.07122708,\n",
       "         0.03977111,  0.18987909],\n",
       "       ...,\n",
       "       [-0.12503728,  1.61260741,  0.79370929, ...,  0.01905062,\n",
       "         0.1432279 ,  2.42943007],\n",
       "       [-0.60070165,  1.81983869,  0.64153709, ...,  0.06443295,\n",
       "         0.0292528 ,  0.5645309 ],\n",
       "       [-0.11123291,  1.33219778,  0.69740668, ...,  0.00655822,\n",
       "         0.09484189,  0.62464408]])"
      ]
     },
     "execution_count": 12,
     "metadata": {},
     "output_type": "execute_result"
    }
   ],
   "source": [
    "X = features.values\n",
    "X"
   ]
  },
  {
   "cell_type": "code",
   "execution_count": 13,
   "metadata": {},
   "outputs": [
    {
     "data": {
      "text/plain": [
       "array([0, 0, 0, 0, 0, 0, 0, 0, 0, 0, 0, 0, 0, 0, 0, 0, 0, 0, 0, 0, 0, 0,\n",
       "       0, 0, 0, 0, 0, 0, 0, 0, 0, 0, 0, 0, 0, 0, 0, 0, 0, 0, 0, 0, 0, 0,\n",
       "       0, 0, 0, 0, 0, 0, 0, 0, 0, 0, 0, 0, 0, 0, 0, 0, 0, 0, 0, 0, 0, 0,\n",
       "       0, 0, 0, 0, 0, 0, 0, 0, 0, 0, 0, 0, 0, 0, 0, 0, 0, 0, 0, 0, 0, 0,\n",
       "       0, 0, 0, 0, 0, 0, 0, 0, 0, 0, 0, 0, 0, 0, 0, 0, 0, 0, 0, 0, 0, 0,\n",
       "       0, 0, 0, 0, 0, 0, 0, 0, 0, 0, 0, 0, 0, 0, 0, 0, 0, 0, 0, 0, 0, 0,\n",
       "       0, 0, 0, 0, 0, 0, 0, 0, 0, 0, 0, 0, 0, 0, 0, 0, 0, 0, 0, 0, 0, 0,\n",
       "       0, 0, 0, 0, 0, 0, 0, 0, 0, 0, 0, 0, 0, 0, 0, 0, 0, 0, 0, 0, 0, 0,\n",
       "       0, 0, 0, 0, 0, 0, 0, 0, 0, 0, 0, 0, 0, 0, 0, 0, 0, 0, 0, 0, 0, 0,\n",
       "       0, 0, 0, 0, 0, 0, 0, 0, 0, 0, 0, 0, 0, 0, 0, 0, 0, 0, 0, 0, 0, 0,\n",
       "       0, 0, 0, 0, 0, 0, 0, 0, 0, 0, 0, 0, 0, 0, 0, 0, 0, 0, 0, 0, 0, 0,\n",
       "       0, 0, 0, 0, 0, 0, 0, 0, 0, 0, 0, 0, 0, 0, 0, 0, 0, 0, 0, 0, 0, 0,\n",
       "       0, 0, 0, 0, 0, 0, 0, 0, 0, 0, 0, 0, 0, 0, 0, 0, 0, 0, 0, 0, 0, 0,\n",
       "       0, 0, 0, 0, 0, 0, 0, 0, 0, 0, 0, 0, 0, 0, 0, 0, 0, 0, 0, 0, 0, 0,\n",
       "       0, 0, 0, 0, 0, 0, 0, 0, 0, 0, 0, 0, 0, 0, 0, 0, 0, 0, 0, 0, 0, 0,\n",
       "       0, 0, 0, 0, 0, 0, 0, 0, 0, 0, 0, 0, 0, 0, 0, 0, 0, 0, 0, 0, 0, 0,\n",
       "       0, 0, 0, 0, 0, 0, 0, 0, 0, 0, 0, 0, 0, 0, 0, 0, 0, 0, 0, 0, 0, 0,\n",
       "       0, 0, 0, 0, 0, 0, 0, 0, 0, 0, 0, 0, 0, 0, 0, 0, 1, 1, 1, 1, 1, 1,\n",
       "       1, 1, 1, 1, 1, 1, 1, 1, 1, 1, 1, 1, 1, 1, 1, 1, 1, 1, 1, 1, 1, 1,\n",
       "       1, 1, 1, 1, 1, 1, 1, 1, 1, 1, 1, 1, 1, 1, 1, 1, 1, 1, 1, 1, 1, 1,\n",
       "       1, 1, 1, 1, 1, 1, 1, 1, 1, 1, 1, 1, 1, 1, 1, 1, 1, 1, 1, 1, 1, 1,\n",
       "       1, 1, 1, 1, 1, 1, 1, 1, 1, 1, 1, 1, 1, 1, 1, 1, 1, 1, 1, 1, 1, 1,\n",
       "       1, 1, 1, 1, 1, 1, 1, 1, 1, 1, 1, 1, 1, 1, 1, 1, 1, 1, 1, 1, 1, 1,\n",
       "       1, 1, 1, 1, 1, 1, 1, 1, 1, 1, 1, 1, 1, 1], dtype=int64)"
      ]
     },
     "execution_count": 13,
     "metadata": {},
     "output_type": "execute_result"
    }
   ],
   "source": [
    "Y = merged['label'].values\n",
    "Y"
   ]
  },
  {
   "cell_type": "markdown",
   "metadata": {},
   "source": [
    "### K-Fold test"
   ]
  },
  {
   "cell_type": "code",
   "execution_count": 14,
   "metadata": {},
   "outputs": [],
   "source": [
    "model_to_evaluate = []\n",
    "model_to_evaluate.append(('DT', DecisionTreeClassifier()))\n",
    "model_to_evaluate.append(('NB', GaussianNB()))\n",
    "model_to_evaluate.append(('KNN', KNeighborsClassifier()))"
   ]
  },
  {
   "cell_type": "code",
   "execution_count": 15,
   "metadata": {},
   "outputs": [
    {
     "name": "stdout",
     "output_type": "stream",
     "text": [
      "Akurasi DT: 0.9692268509290635 dengan std dev 0.0027648639075494703\n",
      "\n",
      "Akurasi NB: 0.9461608309525391 dengan std dev 0.005373173902573761\n",
      "\n",
      "Akurasi KNN: 0.9692932916971188 dengan std dev 0.023110029953269457\n",
      "\n"
     ]
    }
   ],
   "source": [
    "results=[]\n",
    "names=[]\n",
    "\n",
    "for name, model in model_to_evaluate:\n",
    "    kfold = StratifiedKFold(n_splits=3, random_state=1, shuffle=True)\n",
    "    cv_result = cross_val_score(model, X, Y, cv=kfold, scoring='accuracy')\n",
    "    results.append(cv_result)\n",
    "    names.append(name)\n",
    "    print(f'Akurasi {name}: {cv_result.mean()} dengan std dev {cv_result.std()}')\n",
    "    print()"
   ]
  },
  {
   "cell_type": "code",
   "execution_count": 16,
   "metadata": {},
   "outputs": [
    {
     "data": {
      "image/png": "[encoded data removed]",
      "text/plain": [
       "<Figure size 600x600 with 1 Axes>"
      ]
     },
     "metadata": {},
     "output_type": "display_data"
    }
   ],
   "source": [
    "plt.figure(figsize=(6,6))\n",
    "plt.boxplot(list(map(lambda item: item*100, results)), labels=names)\n",
    "plt.title('Hasil Uji Akurasi Validasi dengan Stratified K-Fold Lipat 3', fontdict={'fontweight': 'normal', 'fontsize':'14'})\n",
    "plt.xlabel('Classifier')\n",
    "plt.ylabel('CV Result (in %)')\n",
    "# plt.savefig('CV Result.png', dpi=300)\n",
    "plt.show()\n"
   ]
  },
  {
   "cell_type": "markdown",
   "metadata": {},
   "source": [
    "### Test each of the algorithm"
   ]
  },
  {
   "cell_type": "code",
   "execution_count": 17,
   "metadata": {},
   "outputs": [],
   "source": [
    "X_train, X_val, Y_train, Y_val = train_test_split(X, Y, test_size=0.10, random_state=1)"
   ]
  },
  {
   "cell_type": "code",
   "execution_count": 18,
   "metadata": {},
   "outputs": [
    {
     "name": "stdout",
     "output_type": "stream",
     "text": [
      "Prediction took 3.2286643981933594 ms\n",
      "              precision    recall  f1-score   support\n",
      "\n",
      "           0       0.97      0.95      0.96        38\n",
      "           1       0.87      0.93      0.90        14\n",
      "\n",
      "    accuracy                           0.94        52\n",
      "   macro avg       0.92      0.94      0.93        52\n",
      "weighted avg       0.94      0.94      0.94        52\n",
      "\n"
     ]
    },
    {
     "data": {
      "text/plain": [
       "<sklearn.metrics._plot.confusion_matrix.ConfusionMatrixDisplay at 0x1f7d7c27a00>"
      ]
     },
     "execution_count": 18,
     "metadata": {},
     "output_type": "execute_result"
    },
    {
     "data": {
      "image/png": "[encoded data removed]",
      "text/plain": [
       "<Figure size 640x480 with 2 Axes>"
      ]
     },
     "metadata": {},
     "output_type": "display_data"
    }
   ],
   "source": [
    "dt = DecisionTreeClassifier()\n",
    "dt.fit(X_train, Y_train)\n",
    "\n",
    "start_time = time.time()\n",
    "dt_predictions = dt.predict(X_val)\n",
    "end_time = time.time()\n",
    "\n",
    "print(f'Prediction took {(end_time - start_time) * 1e3} ms')\n",
    "print(classification_report(Y_val,dt_predictions))\n",
    "ConfusionMatrixDisplay.from_predictions(Y_val, dt_predictions)"
   ]
  },
  {
   "cell_type": "code",
   "execution_count": 19,
   "metadata": {},
   "outputs": [
    {
     "name": "stdout",
     "output_type": "stream",
     "text": [
      "Prediction took 0.0 ms\n",
      "              precision    recall  f1-score   support\n",
      "\n",
      "           0       1.00      0.95      0.97        38\n",
      "           1       0.88      1.00      0.93        14\n",
      "\n",
      "    accuracy                           0.96        52\n",
      "   macro avg       0.94      0.97      0.95        52\n",
      "weighted avg       0.97      0.96      0.96        52\n",
      "\n"
     ]
    },
    {
     "data": {
      "text/plain": [
       "<sklearn.metrics._plot.confusion_matrix.ConfusionMatrixDisplay at 0x1f789007550>"
      ]
     },
     "execution_count": 19,
     "metadata": {},
     "output_type": "execute_result"
    },
    {
     "data": {
      "image/png": "[encoded data removed]",
      "text/plain": [
       "<Figure size 640x480 with 2 Axes>"
      ]
     },
     "metadata": {},
     "output_type": "display_data"
    }
   ],
   "source": [
    "nb = GaussianNB()\n",
    "nb.fit(X_train, Y_train)\n",
    "\n",
    "start_time = time.time()\n",
    "nb_predictions = nb.predict(X_val)\n",
    "end_time = time.time()\n",
    "\n",
    "print(f'Prediction took {(end_time - start_time) * 1e3} ms')\n",
    "print(classification_report(Y_val,nb_predictions))\n",
    "ConfusionMatrixDisplay.from_predictions(Y_val, nb_predictions)"
   ]
  },
  {
   "cell_type": "code",
   "execution_count": 20,
   "metadata": {},
   "outputs": [
    {
     "name": "stdout",
     "output_type": "stream",
     "text": [
      "Prediction took 3.955841064453125 ms\n",
      "              precision    recall  f1-score   support\n",
      "\n",
      "           0       1.00      1.00      1.00        38\n",
      "           1       1.00      1.00      1.00        14\n",
      "\n",
      "    accuracy                           1.00        52\n",
      "   macro avg       1.00      1.00      1.00        52\n",
      "weighted avg       1.00      1.00      1.00        52\n",
      "\n"
     ]
    },
    {
     "data": {
      "text/plain": [
       "<sklearn.metrics._plot.confusion_matrix.ConfusionMatrixDisplay at 0x1f78c5c1310>"
      ]
     },
     "execution_count": 20,
     "metadata": {},
     "output_type": "execute_result"
    },
    {
     "data": {
      "image/png": "[encoded data removed]",
      "text/plain": [
       "<Figure size 640x480 with 2 Axes>"
      ]
     },
     "metadata": {},
     "output_type": "display_data"
    }
   ],
   "source": [
    "knn = KNeighborsClassifier()\n",
    "knn.fit(X_train, Y_train)\n",
    "\n",
    "start_time = time.time()\n",
    "knn_predictions = knn.predict(X_val)\n",
    "end_time = time.time()\n",
    "\n",
    "print(f'Prediction took {(end_time - start_time) * 1e3} ms')\n",
    "print(classification_report(Y_val,knn_predictions))\n",
    "ConfusionMatrixDisplay.from_predictions(Y_val, knn_predictions)"
   ]
  },
  {
   "cell_type": "markdown",
   "metadata": {},
   "source": [
    "## Voting Classifier"
   ]
  },
  {
   "cell_type": "code",
   "execution_count": 27,
   "metadata": {},
   "outputs": [],
   "source": [
    "from sklearn.ensemble import VotingClassifier"
   ]
  },
  {
   "cell_type": "code",
   "execution_count": 28,
   "metadata": {},
   "outputs": [],
   "source": [
    "dt = DecisionTreeClassifier()\n",
    "knn = KNeighborsClassifier()\n",
    "nb = GaussianNB()\n",
    "\n",
    "final_model = VotingClassifier(\n",
    "    estimators=[\n",
    "        (\"decision_tree\", dt),\n",
    "        (\"k-nearest_neighbor\", knn),\n",
    "        (\"gaussnb\", nb),\n",
    "    ],\n",
    "    voting=\"soft\",\n",
    ")"
   ]
  },
  {
   "cell_type": "code",
   "execution_count": 29,
   "metadata": {},
   "outputs": [
    {
     "data": {
      "text/plain": [
       "VotingClassifier(estimators=[('decision_tree', DecisionTreeClassifier()),\n",
       "                             ('k-nearest_neighbor', KNeighborsClassifier()),\n",
       "                             ('gaussnb', GaussianNB())],\n",
       "                 voting='soft')"
      ]
     },
     "execution_count": 29,
     "metadata": {},
     "output_type": "execute_result"
    }
   ],
   "source": [
    "final_model.fit(X_train, Y_train)"
   ]
  },
  {
   "cell_type": "code",
   "execution_count": 30,
   "metadata": {},
   "outputs": [
    {
     "name": "stdout",
     "output_type": "stream",
     "text": [
      "Predictions took 5.333900451660156 ms\n",
      "              precision    recall  f1-score   support\n",
      "\n",
      "           0       0.97      1.00      0.99        38\n",
      "           1       1.00      0.93      0.96        14\n",
      "\n",
      "    accuracy                           0.98        52\n",
      "   macro avg       0.99      0.96      0.97        52\n",
      "weighted avg       0.98      0.98      0.98        52\n",
      "\n"
     ]
    },
    {
     "data": {
      "text/plain": [
       "<sklearn.metrics._plot.confusion_matrix.ConfusionMatrixDisplay at 0x1f78c5e1160>"
      ]
     },
     "execution_count": 30,
     "metadata": {},
     "output_type": "execute_result"
    },
    {
     "data": {
      "image/png": "[encoded data removed]",
      "text/plain": [
       "<Figure size 640x480 with 2 Axes>"
      ]
     },
     "metadata": {},
     "output_type": "display_data"
    }
   ],
   "source": [
    "start_time = time.time()\n",
    "voting_prediction = final_model.predict(X_val)\n",
    "end_time = time.time()\n",
    "\n",
    "print(f'Predictions took {(end_time-start_time)*1e3} ms')\n",
    "print(classification_report(Y_val, voting_prediction))\n",
    "ConfusionMatrixDisplay.from_predictions(Y_val, voting_prediction)"
   ]
  },
  {
   "cell_type": "markdown",
   "metadata": {},
   "source": [
    "# Save Model"
   ]
  },
  {
   "cell_type": "code",
   "execution_count": 31,
   "metadata": {},
   "outputs": [],
   "source": [
    "import joblib"
   ]
  },
  {
   "cell_type": "code",
   "execution_count": 32,
   "metadata": {},
   "outputs": [
    {
     "data": {
      "text/plain": [
       "['naivebayes_classifier_10_individuals.pkl']"
      ]
     },
     "execution_count": 32,
     "metadata": {},
     "output_type": "execute_result"
    }
   ],
   "source": [
    "joblib.dump(final_model, 'soft_voting_classifier_10_individuals.pkl')\n",
    "joblib.dump(dt, 'decisionTree_classifier_10_individuals.pkl')\n",
    "joblib.dump(knn, 'knn_classifier_10_individuals.pkl')\n",
    "joblib.dump(nb, 'naivebayes_classifier_10_individuals.pkl')"
   ]
  },
  {
   "cell_type": "code",
   "execution_count": null,
   "metadata": {},
   "outputs": [],
   "source": []
  }
 ],
 "metadata": {
  "kernelspec": {
   "display_name": "tf",
   "language": "python",
   "name": "python3"
  },
  "language_info": {
   "codemirror_mode": {
    "name": "ipython",
    "version": 3
   },
   "file_extension": ".py",
   "mimetype": "text/x-python",
   "name": "python",
   "nbconvert_exporter": "python",
   "pygments_lexer": "ipython3",
   "version": "3.9.19"
  }
 },
 "nbformat": 4,
 "nbformat_minor": 2
}
