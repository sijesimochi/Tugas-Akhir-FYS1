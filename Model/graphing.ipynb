{
 "cells": [
  {
   "cell_type": "markdown",
   "metadata": {},
   "source": [
    "# Model Making Process"
   ]
  },
  {
   "cell_type": "markdown",
   "metadata": {},
   "source": [
    "## Preprocess the data"
   ]
  },
  {
   "cell_type": "markdown",
   "metadata": {},
   "source": [
    "### Imports"
   ]
  },
  {
   "cell_type": "code",
   "execution_count": null,
   "metadata": {},
   "outputs": [],
   "source": [
    "import numpy as np\n",
    "import pandas as pd\n",
    "import matplotlib.pyplot as plt\n",
    "import sklearn\n",
    "\n",
    "from sklearn.model_selection import train_test_split, cross_val_score, StratifiedKFold\n",
    "from sklearn.tree import DecisionTreeClassifier\n",
    "from sklearn.neighbors import KNeighborsClassifier\n",
    "from sklearn.naive_bayes import GaussianNB\n",
    "from sklearn.svm import SVC\n",
    "\n",
    "from sklearn.metrics import classification_report, ConfusionMatrixDisplay\n",
    "\n",
    "import platform\n",
    "import os\n",
    "import time\n",
    "\n",
    "print('Python ver:', platform.python_version())\n",
    "print('Scikit-learn ver:', sklearn.__version__)\n",
    "print('Pandas ver:', pd.__version__)\n",
    "print('Numpy ver:', np.__version__)"
   ]
  },
  {
   "cell_type": "markdown",
   "metadata": {},
   "source": [
    "### Access the Dataset"
   ]
  },
  {
   "cell_type": "code",
   "execution_count": null,
   "metadata": {},
   "outputs": [],
   "source": [
    "# Read csv and check the data\n",
    "cwd = os.path.dirname(os.path.abspath('__file__'))\n",
    "dataset_dir = os.path.join(cwd, '..', 'Transformed dataset')\n",
    "mean_path = os.path.join(dataset_dir, 'transformed_mean.csv')\n",
    "var_path = os.path.join(dataset_dir, 'transformed_var.csv')\n",
    "\n",
    "mean_csv = pd.read_csv(mean_path)\n",
    "var_csv = pd.read_csv(var_path)"
   ]
  },
  {
   "cell_type": "code",
   "execution_count": null,
   "metadata": {},
   "outputs": [],
   "source": [
    "mean_csv.head()"
   ]
  },
  {
   "cell_type": "code",
   "execution_count": null,
   "metadata": {},
   "outputs": [],
   "source": [
    "mean_csv.count()"
   ]
  },
  {
   "cell_type": "code",
   "execution_count": null,
   "metadata": {},
   "outputs": [],
   "source": [
    "var_csv.head()"
   ]
  },
  {
   "cell_type": "code",
   "execution_count": null,
   "metadata": {},
   "outputs": [],
   "source": [
    "var_csv.count()"
   ]
  },
  {
   "cell_type": "markdown",
   "metadata": {},
   "source": [
    "### Merging the dataset into a single DataFrame"
   ]
  },
  {
   "cell_type": "code",
   "execution_count": null,
   "metadata": {},
   "outputs": [],
   "source": [
    "mean_csv = mean_csv.drop(columns=[\"label\"])\n",
    "mean_csv = mean_csv.add_suffix(\"_mean\")\n",
    "mean_csv.columns = mean_csv.columns.str.replace(\"Unnamed: 0_mean\", \"index\")\n",
    "mean_csv.columns"
   ]
  },
  {
   "cell_type": "code",
   "execution_count": null,
   "metadata": {},
   "outputs": [],
   "source": [
    "var_csv = var_csv.add_suffix(\"_var\")\n",
    "var_csv.columns = var_csv.columns.str.replace(\"Unnamed: 0_var\", 'index')\n",
    "var_csv.columns = var_csv.columns.str.replace(\"label_var\", 'label')\n",
    "var_csv.columns"
   ]
  },
  {
   "cell_type": "code",
   "execution_count": null,
   "metadata": {},
   "outputs": [],
   "source": [
    "merged = mean_csv.merge(var_csv, on='index')\n",
    "merged.columns"
   ]
  },
  {
   "cell_type": "code",
   "execution_count": null,
   "metadata": {},
   "outputs": [],
   "source": [
    "merged.count()"
   ]
  },
  {
   "cell_type": "markdown",
   "metadata": {},
   "source": [
    "### Optional cell\n",
    "\n",
    "Run this cell only if you want to export the DataFrame into a csv to work in another machine or workspace"
   ]
  },
  {
   "cell_type": "code",
   "execution_count": null,
   "metadata": {},
   "outputs": [],
   "source": [
    "# merged.to_csv('merged.csv', index=True) # Keep in mind that the new csv will have it's index."
   ]
  },
  {
   "cell_type": "markdown",
   "metadata": {},
   "source": [
    "## Making the model"
   ]
  },
  {
   "cell_type": "markdown",
   "metadata": {},
   "source": [
    "### Assign variables"
   ]
  },
  {
   "cell_type": "code",
   "execution_count": null,
   "metadata": {},
   "outputs": [],
   "source": [
    "features = merged.drop(['label', 'index'], axis=1)\n",
    "features.columns"
   ]
  },
  {
   "cell_type": "code",
   "execution_count": null,
   "metadata": {},
   "outputs": [],
   "source": [
    "X = features.values\n",
    "X"
   ]
  },
  {
   "cell_type": "code",
   "execution_count": null,
   "metadata": {},
   "outputs": [],
   "source": [
    "Y = merged['label'].values\n",
    "Y"
   ]
  },
  {
   "cell_type": "markdown",
   "metadata": {},
   "source": [
    "### K-Fold test"
   ]
  },
  {
   "cell_type": "code",
   "execution_count": null,
   "metadata": {},
   "outputs": [],
   "source": [
    "model_to_evaluate = []\n",
    "model_to_evaluate.append(('KNN', KNeighborsClassifier(), 'K-nearest Neighbor'))\n",
    "model_to_evaluate.append(('DT', DecisionTreeClassifier(), 'DecisionTree'))\n",
    "model_to_evaluate.append(('NB', GaussianNB(), 'Gaussian Naive-Bayes'))\n",
    "model_to_evaluate.append(('SVM', SVC(), 'Support Vector Machine'))"
   ]
  },
  {
   "cell_type": "code",
   "execution_count": null,
   "metadata": {},
   "outputs": [],
   "source": [
    "results=[]\n",
    "names=[]\n",
    "\n",
    "for name, model, full_name in model_to_evaluate:\n",
    "    kfold = StratifiedKFold(n_splits=3, random_state=1, shuffle=True)\n",
    "    cv_result = cross_val_score(model, X, Y, cv=kfold, scoring='accuracy')\n",
    "    results.append(cv_result)\n",
    "    names.append(name)\n",
    "    print(f'Akurasi {name}: {cv_result.mean()} dengan std dev {cv_result.std()}')\n",
    "    print()"
   ]
  },
  {
   "cell_type": "code",
   "execution_count": null,
   "metadata": {},
   "outputs": [],
   "source": [
    "plt.figure(figsize=(6,6))\n",
    "plt.boxplot(list(map(lambda item: item*100, results)), labels=names)\n",
    "plt.title('Hasil Uji Akurasi Validasi dengan Stratified K-Fold Lipat 3', fontdict={'fontweight': 'normal', 'fontsize':'14'})\n",
    "plt.xlabel('Classifier')\n",
    "plt.ylabel('CV Result (in %)')\n",
    "# plt.savefig('CV Result.png', dpi=300)\n",
    "plt.show()\n"
   ]
  },
  {
   "cell_type": "markdown",
   "metadata": {},
   "source": [
    "### Test each of the algorithm"
   ]
  },
  {
   "cell_type": "code",
   "execution_count": null,
   "metadata": {},
   "outputs": [],
   "source": [
    "X_train, X_val, Y_train, Y_val = train_test_split(X, Y, test_size=0.10, random_state=1)"
   ]
  },
  {
   "cell_type": "code",
   "execution_count": null,
   "metadata": {},
   "outputs": [],
   "source": [
    "plot_label = ['Tidak Jatuh', 'Jatuh']"
   ]
  },
  {
   "cell_type": "code",
   "execution_count": null,
   "metadata": {},
   "outputs": [],
   "source": [
    "for name, model, full_name in model_to_evaluate:\n",
    "    clf = model\n",
    "    clf.fit(X_train, Y_train)\n",
    "    predictions = clf.predict(X_val)\n",
    "    print(classification_report(Y_val, predictions))\n",
    "    disp = ConfusionMatrixDisplay.from_predictions(Y_val, predictions, display_labels=plot_label)\n",
    "    disp.ax_.set_title(f'Confusion Matrix Result of {full_name}')"
   ]
  },
  {
   "cell_type": "markdown",
   "metadata": {},
   "source": [
    "## Voting Classifier (optional)"
   ]
  },
  {
   "cell_type": "code",
   "execution_count": null,
   "metadata": {},
   "outputs": [],
   "source": [
    "# from sklearn.ensemble import VotingClassifier"
   ]
  },
  {
   "cell_type": "code",
   "execution_count": null,
   "metadata": {},
   "outputs": [],
   "source": [
    "# dt = DecisionTreeClassifier()\n",
    "# knn = KNeighborsClassifier()\n",
    "# nb = GaussianNB()\n",
    "# svm = SVC()\n",
    "\n",
    "# final_model = VotingClassifier(\n",
    "#     estimators=[\n",
    "#         (\"decision_tree\", dt),\n",
    "#         (\"k-nearest_neighbor\", knn),\n",
    "#         (\"gaussnb\", nb),\n",
    "#         (\"svm\", svm)  \n",
    "#     ],\n",
    "#     voting=\"soft\",\n",
    "# )"
   ]
  },
  {
   "cell_type": "code",
   "execution_count": null,
   "metadata": {},
   "outputs": [],
   "source": [
    "# final_model.fit(X_train, Y_train)"
   ]
  },
  {
   "cell_type": "code",
   "execution_count": null,
   "metadata": {},
   "outputs": [],
   "source": [
    "# start_time = time.time()\n",
    "# voting_prediction = final_model.predict(X_val)\n",
    "# end_time = time.time()\n",
    "\n",
    "# print(f'Predictions took {(end_time-start_time)*1e3} ms')\n",
    "# print(classification_report(Y_val, voting_prediction))\n",
    "# ConfusionMatrixDisplay.from_predictions(Y_val, voting_prediction)"
   ]
  }
 ],
 "metadata": {
  "kernelspec": {
   "display_name": "tf",
   "language": "python",
   "name": "python3"
  },
  "language_info": {
   "codemirror_mode": {
    "name": "ipython",
    "version": 3
   },
   "file_extension": ".py",
   "mimetype": "text/x-python",
   "name": "python",
   "nbconvert_exporter": "python",
   "pygments_lexer": "ipython3",
   "version": "3.7.3"
  }
 },
 "nbformat": 4,
 "nbformat_minor": 2
}
